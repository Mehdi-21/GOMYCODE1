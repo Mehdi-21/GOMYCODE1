{
 "cells": [
  {
   "cell_type": "code",
   "execution_count": 1,
   "id": "7eeeb662",
   "metadata": {},
   "outputs": [
    {
     "name": "stdout",
     "output_type": "stream",
     "text": [
      "Type your first nameMehdi\n",
      "Type your last nameElayeb\n",
      "Elayeb Mehdi\n"
     ]
    }
   ],
   "source": [
    "Firstname = input(\"Type your first name\")\n",
    "Lastname = input(\"Type your last name\")\n",
    "\n",
    "Reversedname = Lastname + \" \" + Firstname\n",
    "print(Reversedname)"
   ]
  },
  {
   "cell_type": "code",
   "execution_count": null,
   "id": "bbba82f4",
   "metadata": {},
   "outputs": [],
   "source": []
  }
 ],
 "metadata": {
  "kernelspec": {
   "display_name": "Python 3",
   "language": "python",
   "name": "python3"
  },
  "language_info": {
   "codemirror_mode": {
    "name": "ipython",
    "version": 3
   },
   "file_extension": ".py",
   "mimetype": "text/x-python",
   "name": "python",
   "nbconvert_exporter": "python",
   "pygments_lexer": "ipython3",
   "version": "3.8.8"
  }
 },
 "nbformat": 4,
 "nbformat_minor": 5
}
